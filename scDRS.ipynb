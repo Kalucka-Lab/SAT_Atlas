{
 "cells": [
  {
   "cell_type": "code",
   "execution_count": null,
   "id": "5b1f8460-f217-495c-9977-fae6904872ff",
   "metadata": {},
   "outputs": [],
   "source": [
    "import os\n",
    "import pandas as pd\n",
    "import scdrs\n",
    "import scanpy as sc"
   ]
  },
  {
   "cell_type": "code",
   "execution_count": null,
   "id": "87b2b7b9-a7b5-4d14-b9bb-5025c7071d9e",
   "metadata": {},
   "outputs": [],
   "source": [
    "adata = sc.read_h5ad(\"Vascular_IntegratedObj.h5ad\")\n",
    "adata"
   ]
  },
  {
   "cell_type": "code",
   "execution_count": null,
   "id": "a7209fce-514f-4377-93e2-f4ee57b330b4",
   "metadata": {},
   "outputs": [],
   "source": [
    "# Reading .cov file\n",
    "df_cov = pd.read_csv(\"covariate_file.tsv\", sep=\"\\t\", index_col=0)\n",
    "df_cov"
   ]
  },
  {
   "cell_type": "code",
   "execution_count": null,
   "id": "68427011-9416-40ca-b074-3f06cb09bfab",
   "metadata": {},
   "outputs": [],
   "source": [
    "df_gs = pd.read_csv(\"processed_genesets.gs\", sep=\"\\t\", index_col=0)\n",
    "df_gs"
   ]
  },
  {
   "cell_type": "code",
   "execution_count": null,
   "id": "025f4adc-02a1-4cdc-aa4e-e67a9518a45c",
   "metadata": {},
   "outputs": [],
   "source": [
    "# scdrs.preprocess(adata, cov=df_cov)"
   ]
  },
  {
   "cell_type": "code",
   "execution_count": null,
   "id": "c769e9c5-764d-42f7-b475-01104f548616",
   "metadata": {},
   "outputs": [],
   "source": [
    "!scdrs compute-score \\\n",
    "    --h5ad-file Vascular_IntegratedObj.h5ad \\\n",
    "    --h5ad-species human \\\n",
    "    --gs-file processed_genesets.gs \\\n",
    "    --gs-species human \\\n",
    "    --cov-file covariate_file.tsv \\\n",
    "    --flag-filter-data True \\\n",
    "    --flag-raw-count True \\\n",
    "    --flag-return-ctrl-raw-score False \\\n",
    "    --flag-return-ctrl-norm-score True \\\n",
    "    --out-folder results/"
   ]
  },
  {
   "cell_type": "code",
   "execution_count": null,
   "id": "cc2b1eaa-6d07-4481-9fc4-a6be16f61692",
   "metadata": {},
   "outputs": [],
   "source": [
    "dict_score = {\n",
    "    trait: pd.read_csv(f\"results/{trait}.full_score.gz\", sep=\"\\t\", index_col=0)\n",
    "    for trait in df_gs.index\n",
    "}\n",
    "\n",
    "for trait in dict_score:\n",
    "    adata.obs[trait] = dict_score[trait][\"norm_score\"]\n",
    "\n",
    "sc.set_figure_params(figsize=[2.5, 2.5], dpi=150)\n",
    "sc.pl.umap(\n",
    "    adata,\n",
    "    color=\"Vascular_labels\",\n",
    "    ncols=1,\n",
    "    color_map=\"RdBu_r\",\n",
    "    vmin=-5,\n",
    "    vmax=5,\n",
    ")\n",
    "\n",
    "sc.pl.umap(\n",
    "    adata,\n",
    "    color=dict_score.keys(),\n",
    "    color_map=\"RdBu_r\",\n",
    "    vmin=-5,\n",
    "    vmax=5,\n",
    "    s=20,\n",
    ")"
   ]
  },
  {
   "cell_type": "code",
   "execution_count": null,
   "id": "7bd449f1-4a2c-4f59-b1b8-7775f2dee8c1",
   "metadata": {},
   "outputs": [],
   "source": [
    "metadatadf = adata.obs"
   ]
  },
  {
   "cell_type": "code",
   "execution_count": null,
   "id": "bff8bdeb-5710-4cc0-95f6-dcef98f065fa",
   "metadata": {},
   "outputs": [],
   "source": [
    "metadatadf.to_csv(\"metadata_results.csv\")"
   ]
  },
  {
   "cell_type": "code",
   "execution_count": null,
   "id": "5ddb5a58-4438-4ca1-86aa-19ed07df2071",
   "metadata": {},
   "outputs": [],
   "source": [
    "metadatadf = pd.read_csv(\"metadata_results_updated.csv\", index_col=0)"
   ]
  },
  {
   "cell_type": "code",
   "execution_count": null,
   "id": "b75427fb-f5d0-43c5-aa0b-fa4a9d23ae2e",
   "metadata": {},
   "outputs": [],
   "source": [
    "metadatadf"
   ]
  },
  {
   "cell_type": "code",
   "execution_count": null,
   "id": "e0bbd430-56ad-4a19-a74b-8d9ba59ac83d",
   "metadata": {},
   "outputs": [],
   "source": [
    "adata.obs = metadatadf"
   ]
  },
  {
   "cell_type": "code",
   "execution_count": null,
   "id": "b3a9c4d2-49d7-426b-ad57-c84d0463cc1a",
   "metadata": {},
   "outputs": [],
   "source": [
    "adata"
   ]
  },
  {
   "cell_type": "code",
   "execution_count": null,
   "id": "0e7645f0-e9ae-4fca-a726-dbaa9d4be247",
   "metadata": {},
   "outputs": [],
   "source": [
    "for trait in [\"CAD\",\"FG\",\"T1D\",\"T2D\",\"TC\",\"Glucose\",\"HbA1c\",\"HDL\",\"LDL\",\"TG\",\"BMI\",\"WHR\",\"DBP\",\"SBP\",\"CVD\",\"HTN\",\"BMR\"]:\n",
    "    !scdrs perform-downstream \\\n",
    "        --h5ad-file Vascular_IntegratedObj.h5ad \\\n",
    "        --score-file results/{trait}.full_score.gz \\\n",
    "        --out-folder data/ \\\n",
    "        --group-analysis Vascular_labels \\\n",
    "        --flag-filter-data True \\\n",
    "        --flag-raw-count True"
   ]
  },
  {
   "cell_type": "code",
   "execution_count": null,
   "id": "2078f1da-2a35-4767-99f6-662cbb2c729c",
   "metadata": {},
   "outputs": [],
   "source": [
    "# scDRS group-level statistics for BMI\n",
    "!cat data/BMI.scdrs_group.Vascular_labels | column -t -s $'\\t'"
   ]
  },
  {
   "cell_type": "code",
   "execution_count": null,
   "id": "2052519e-391d-431c-a0ab-07b4587368bb",
   "metadata": {},
   "outputs": [],
   "source": [
    "# scDRS group-level statistics for T2D\n",
    "!cat data/T2D.scdrs_group.Vascular_labels | column -t -s $'\\t'"
   ]
  },
  {
   "cell_type": "code",
   "execution_count": null,
   "id": "28508057-7994-4dc2-82b7-71904313eecb",
   "metadata": {},
   "outputs": [],
   "source": [
    "import matplotlib.pyplot as plt\n",
    "\n",
    "# Set the size of the figure\n",
    "plt.figure(figsize=(10, 20),dpi=300)  # Adjust the width and height as per your preference\n",
    "\n",
    "# Generate the plot\n",
    "scdrs.util.plot_group_stats(\n",
    "    dict_df_stats={\n",
    "        trait: df_stats.rename(index=dict_celltype_display_name)\n",
    "        for trait, df_stats in dict_df_stats.items()\n",
    "    }\n",
    ")\n",
    "\n",
    "# Get the current figure\n",
    "fig = plt.gcf()\n",
    "\n",
    "# Set the size of the figure\n",
    "# fig.set_size_inches(10, 30)  # Adjust the width and height as per your preference\n",
    "\n",
    "plt.tight_layout(rect=(0, 0, 5, 6))\n",
    "\n",
    "# fig.savefig(\"myplot\", format= \"pdf\")\n",
    "# fig.savefig(\"Fig.png\")\n",
    "\n",
    "# Show the plot\n",
    "plt.show()"
   ]
  },
  {
   "cell_type": "code",
   "execution_count": null,
   "id": "7b44b936-4a09-469f-925d-8f72ec28f8c0",
   "metadata": {},
   "outputs": [],
   "source": [
    "# Generate the plot\n",
    "scdrs.util.plot_group_stats(\n",
    "    dict_df_stats={\n",
    "        trait: df_stats.rename(index=dict_celltype_display_name)\n",
    "        for trait, df_stats in dict_df_stats.items()}\n",
    ")"
   ]
  },
  {
   "cell_type": "code",
   "execution_count": null,
   "id": "d2b5b25e-39b9-468d-8651-fd911d510026",
   "metadata": {},
   "outputs": [],
   "source": [
    "import matplotlib as plt"
   ]
  },
  {
   "cell_type": "code",
   "execution_count": null,
   "id": "84f43d72-404a-43e9-a647-9931b4bd2fa9",
   "metadata": {},
   "outputs": [],
   "source": [
    "# Generate the plot\n",
    "scdrs.util.plot_group_stats(\n",
    "    dict_df_stats={\n",
    "        trait: df_stats.rename(index=dict_celltype_display_name)\n",
    "        for trait, df_stats in dict_df_stats.items()\n",
    "    }\n",
    ")\n",
    "\n",
    "# Get the current figure\n",
    "fig = plt.gcf()\n",
    "\n",
    "# Set the size of the figure\n",
    "# fig.set_size_inches(10, 30)  # Adjust the width and height as per your preference\n",
    "\n",
    "plt.tight_layout(rect=(0, 0, 5, 6))\n",
    "\n",
    "# fig.savefig(\"myplot\", format= \"pdf\")\n",
    "# fig.savefig(\"Fig.png\")\n",
    "\n",
    "# Show the plot\n",
    "plt.show()"
   ]
  }
 ],
 "metadata": {
  "kernelspec": {
   "display_name": "Python 3 (ipykernel)",
   "language": "python",
   "name": "python3"
  },
  "language_info": {
   "codemirror_mode": {
    "name": "ipython",
    "version": 3
   },
   "file_extension": ".py",
   "mimetype": "text/x-python",
   "name": "python",
   "nbconvert_exporter": "python",
   "pygments_lexer": "ipython3",
   "version": "3.11.6"
  }
 },
 "nbformat": 4,
 "nbformat_minor": 5
}
